{
 "cells": [
  {
   "cell_type": "code",
   "execution_count": 1,
   "id": "bf9d72b2-1d0d-4685-9527-6cb7d4e29215",
   "metadata": {},
   "outputs": [],
   "source": [
    "'''VoidFinder - Hoyle & Vogeley (2002)'''\n",
    "\n",
    "\n",
    "\n",
    "################################################################################\n",
    "#\n",
    "# If you have control over your python environment, voidfinder can be installed\n",
    "# as a normal python package via 'python setup.py install', in which case the \n",
    "# below import of 'sys' and 'sys.path.insert(0, '/abspath/to/VoidFinder/python'\n",
    "# is unnecessary.  If you aren't able to install the voidfinder package,\n",
    "# you can use the sys.path.insert to add it to the list of available packages\n",
    "# in your python environment.\n",
    "#\n",
    "# Alternately, \"python setup.py develop\" will 'install' some symlinks which\n",
    "# point back to the current directory and you can run off the same voidfinder\n",
    "# repository that you're working on as if it was installed\n",
    "#\n",
    "################################################################################\n",
    "\n",
    "\n",
    "#import sys\n",
    "#sys.path.insert(1, 'local/path/VAST/VoidFinder/vast/voidfinder/')\n",
    "\n",
    "################################################################################\n",
    "#\n",
    "#   IMPORT MODULES\n",
    "#\n",
    "################################################################################\n",
    "\n",
    "from vast.voidfinder import find_voids, filter_galaxies\n",
    "\n",
    "from vast.voidfinder.multizmask import generate_mask\n",
    "from vast.voidfinder.preprocessing import file_preprocess\n",
    "from vast.voidfinder.table_functions import to_vector, to_array\n",
    "\n",
    "import pickle"
   ]
  },
  {
   "cell_type": "code",
   "execution_count": 2,
   "id": "252e676a-ad3e-47c4-937f-0fee5a848e3a",
   "metadata": {},
   "outputs": [],
   "source": [
    "################################################################################\n",
    "#\n",
    "#   USER INPUTS\n",
    "#\n",
    "################################################################################\n",
    "\n",
    "\n",
    "# Number of CPUs available for analysis.\n",
    "# A value of None will use one less than all available CPUs.\n",
    "num_cpus = 1\n",
    "\n",
    "#-------------------------------------------------------------------------------\n",
    "survey_name = 'vollim_dr7_cbp_102709_'\n",
    "\n",
    "# File header\n",
    "# Change these directory paths to where your data is stored, and where you want \n",
    "# the output to be saved.\n",
    "in_directory = '/global/homes/s/schampat/Voids/VAST/VoidFinder/'\n",
    "out_directory = '/global/homes/s/schampat/Voids/Voidfinder_Output/SDSS Output'\n",
    "\n",
    "\n",
    "# Input file name\n",
    "galaxies_filename = 'deltatable.fits'  # File format: RA, dec, redshift, comoving distance, absolute magnitude\n",
    "#-------------------------------------------------------------------------------\n",
    "\n",
    "#-------------------------------------------------------------------------------\n",
    "# Survey parameters\n",
    "# Note: These can be set to None, in which case VoidFinder will use the limits \n",
    "# of the galaxy catalog.\n",
    "min_z = 0\n",
    "max_z = 0.107\n",
    "\n",
    "# Cosmology (uncomment and change values to change cosmology)\n",
    "# Need to also uncomment relevent inputs in function calls below\n",
    "Omega_M = 0.26\n",
    "#h = 1\n",
    "\n",
    "# Uncomment if you do NOT want to use comoving distances\n",
    "# Need to also uncomment relevent inputs in function calls below\n",
    "dist_metric = 'comoving'\n",
    "#-------------------------------------------------------------------------------\n",
    "\n",
    "#-------------------------------------------------------------------------------\n",
    "# Uncomment if you do NOT want to remove galaxies with Mr > -20\n",
    "# Need to also uncomment relevent input in function calls below\n",
    "#mag_cut = False\n",
    "\n",
    "\n",
    "# Uncomment if you do NOT want to remove isolated galaxies\n",
    "# Need to also uncomment relevent input in function calls below\n",
    "#rm_isolated = False\n",
    "#-------------------------------------------------------------------------------"
   ]
  },
  {
   "cell_type": "code",
   "execution_count": 3,
   "id": "67b2abf9-4b90-4be2-9a6b-3871bad8cb06",
   "metadata": {},
   "outputs": [
    {
     "name": "stdout",
     "output_type": "stream",
     "text": [
      "Loading galaxy data table at:  /global/homes/s/schampat/Voids/VAST/VoidFinder/deltatable.fits\n",
      "Galaxy data table load time:  0.008467435836791992\n",
      "Calculating Rgal data table column\n",
      "Finished Rgal calculation time:  0.1104276180267334\n",
      "Dist limits:  [  0.    313.904]\n"
     ]
    }
   ],
   "source": [
    "################################################################################\n",
    "#\n",
    "#   PREPROCESS DATA\n",
    "#\n",
    "################################################################################\n",
    "\n",
    "galaxy_data_table, dist_limits, out1_filename, out2_filename = file_preprocess(galaxies_filename, \n",
    "                                                                               in_directory, \n",
    "                                                                               out_directory,\n",
    "                                                                               mag_cut=False,\n",
    "                                                                               #rm_isolated=rm_isolated,\n",
    "                                                                               dist_metric=dist_metric,\n",
    "                                                                               min_z=min_z, \n",
    "                                                                               max_z=max_z,\n",
    "                                                                               Omega_M=Omega_M,\n",
    "                                                                               #h=h,\n",
    "                                                                               verbose=0)\n",
    "\n",
    "print(\"Dist limits: \", dist_limits)"
   ]
  },
  {
   "cell_type": "code",
   "execution_count": 4,
   "id": "339b3f78-704d-4d1c-b24e-9dc60dbd3bc5",
   "metadata": {},
   "outputs": [
    {
     "name": "stdout",
     "output_type": "stream",
     "text": [
      "Generating mask\n"
     ]
    }
   ],
   "source": [
    "################################################################################\n",
    "#\n",
    "#   GENERATE MASK\n",
    "#\n",
    "################################################################################\n",
    "\n",
    "mask, mask_resolution = generate_mask(galaxy_data_table, \n",
    "                                      max_z, \n",
    "                                      dist_metric=dist_metric, \n",
    "                                      smooth_mask=True,\n",
    "                                      #h=h,\n",
    "                                     )\n",
    "\n",
    "\n",
    "temp_outfile = open(out_directory + survey_name + 'mask.pickle', 'wb')\n",
    "pickle.dump((mask, mask_resolution), temp_outfile)\n",
    "temp_outfile.close()"
   ]
  },
  {
   "cell_type": "code",
   "execution_count": 5,
   "id": "18928450-e9bd-4a73-89a3-13c433a8c839",
   "metadata": {},
   "outputs": [
    {
     "name": "stdout",
     "output_type": "stream",
     "text": [
      "Filter Galaxies Start\n"
     ]
    },
    {
     "ename": "ValueError",
     "evalue": "zero-size array to reduction operation maximum which has no identity",
     "output_type": "error",
     "traceback": [
      "\u001b[0;31m---------------------------------------------------------------------------\u001b[0m",
      "\u001b[0;31mValueError\u001b[0m                                Traceback (most recent call last)",
      "\u001b[0;32m<ipython-input-5-f9afbf42ccc8>\u001b[0m in \u001b[0;36m<module>\u001b[0;34m\u001b[0m\n\u001b[1;32m      9\u001b[0m \u001b[0mtemp_infile\u001b[0m\u001b[0;34m.\u001b[0m\u001b[0mclose\u001b[0m\u001b[0;34m(\u001b[0m\u001b[0;34m)\u001b[0m\u001b[0;34m\u001b[0m\u001b[0;34m\u001b[0m\u001b[0m\n\u001b[1;32m     10\u001b[0m \u001b[0;34m\u001b[0m\u001b[0m\n\u001b[0;32m---> 11\u001b[0;31m wall_coords_xyz, field_coords_xyz, hole_grid_shape, coords_min = filter_galaxies(galaxy_data_table,\n\u001b[0m\u001b[1;32m     12\u001b[0m                                                                                  \u001b[0msurvey_name\u001b[0m\u001b[0;34m,\u001b[0m\u001b[0;34m\u001b[0m\u001b[0;34m\u001b[0m\u001b[0m\n\u001b[1;32m     13\u001b[0m                                                                                  \u001b[0mout_directory\u001b[0m\u001b[0;34m,\u001b[0m\u001b[0;34m\u001b[0m\u001b[0;34m\u001b[0m\u001b[0m\n",
      "\u001b[0;32m/global/u1/s/schampat/Voids/VAST/VoidFinder/vast/voidfinder/voidfinder.py\u001b[0m in \u001b[0;36mfilter_galaxies\u001b[0;34m(galaxy_table, survey_name, out_directory, mag_cut, delta_cut, dist_limits, rm_isolated, write_table, sep_neighbor, dist_metric, h, hole_grid_edge_length, magnitude_limit, delta_limit, verbose)\u001b[0m\n\u001b[1;32m    182\u001b[0m     \u001b[0;31m# Grid shape\u001b[0m\u001b[0;34m\u001b[0m\u001b[0;34m\u001b[0m\u001b[0;34m\u001b[0m\u001b[0m\n\u001b[1;32m    183\u001b[0m     \u001b[0;31m#---------------------------------------------------------------------------\u001b[0m\u001b[0;34m\u001b[0m\u001b[0;34m\u001b[0m\u001b[0;34m\u001b[0m\u001b[0m\n\u001b[0;32m--> 184\u001b[0;31m     hole_grid_shape, coords_min = calculate_grid(coords_xyz,\n\u001b[0m\u001b[1;32m    185\u001b[0m                                                  hole_grid_edge_length)\n\u001b[1;32m    186\u001b[0m     \u001b[0;31m############################################################################\u001b[0m\u001b[0;34m\u001b[0m\u001b[0;34m\u001b[0m\u001b[0;34m\u001b[0m\u001b[0m\n",
      "\u001b[0;32m/global/u1/s/schampat/Voids/VAST/VoidFinder/vast/voidfinder/voidfinder.py\u001b[0m in \u001b[0;36mcalculate_grid\u001b[0;34m(galaxy_coords_xyz, hole_grid_edge_length)\u001b[0m\n\u001b[1;32m    371\u001b[0m \u001b[0;34m\u001b[0m\u001b[0m\n\u001b[1;32m    372\u001b[0m \u001b[0;34m\u001b[0m\u001b[0m\n\u001b[0;32m--> 373\u001b[0;31m     \u001b[0mcoords_max\u001b[0m \u001b[0;34m=\u001b[0m \u001b[0mnp\u001b[0m\u001b[0;34m.\u001b[0m\u001b[0mmax\u001b[0m\u001b[0;34m(\u001b[0m\u001b[0mgalaxy_coords_xyz\u001b[0m\u001b[0;34m,\u001b[0m \u001b[0maxis\u001b[0m\u001b[0;34m=\u001b[0m\u001b[0;36m0\u001b[0m\u001b[0;34m)\u001b[0m\u001b[0;34m\u001b[0m\u001b[0;34m\u001b[0m\u001b[0m\n\u001b[0m\u001b[1;32m    374\u001b[0m \u001b[0;34m\u001b[0m\u001b[0m\n\u001b[1;32m    375\u001b[0m     \u001b[0mcoords_min\u001b[0m \u001b[0;34m=\u001b[0m \u001b[0mnp\u001b[0m\u001b[0;34m.\u001b[0m\u001b[0mmin\u001b[0m\u001b[0;34m(\u001b[0m\u001b[0mgalaxy_coords_xyz\u001b[0m\u001b[0;34m,\u001b[0m \u001b[0maxis\u001b[0m\u001b[0;34m=\u001b[0m\u001b[0;36m0\u001b[0m\u001b[0;34m)\u001b[0m\u001b[0;34m\u001b[0m\u001b[0;34m\u001b[0m\u001b[0m\n",
      "\u001b[0;32m<__array_function__ internals>\u001b[0m in \u001b[0;36mamax\u001b[0;34m(*args, **kwargs)\u001b[0m\n",
      "\u001b[0;32m/global/common/software/desi/cori/desiconda/20200801-1.4.0-spec/conda/lib/python3.8/site-packages/numpy/core/fromnumeric.py\u001b[0m in \u001b[0;36mamax\u001b[0;34m(a, axis, out, keepdims, initial, where)\u001b[0m\n\u001b[1;32m   2703\u001b[0m     \u001b[0;36m5\u001b[0m\u001b[0;34m\u001b[0m\u001b[0;34m\u001b[0m\u001b[0m\n\u001b[1;32m   2704\u001b[0m     \"\"\"\n\u001b[0;32m-> 2705\u001b[0;31m     return _wrapreduction(a, np.maximum, 'max', axis, None, out,\n\u001b[0m\u001b[1;32m   2706\u001b[0m                           keepdims=keepdims, initial=initial, where=where)\n\u001b[1;32m   2707\u001b[0m \u001b[0;34m\u001b[0m\u001b[0m\n",
      "\u001b[0;32m/global/common/software/desi/cori/desiconda/20200801-1.4.0-spec/conda/lib/python3.8/site-packages/numpy/core/fromnumeric.py\u001b[0m in \u001b[0;36m_wrapreduction\u001b[0;34m(obj, ufunc, method, axis, dtype, out, **kwargs)\u001b[0m\n\u001b[1;32m     85\u001b[0m                 \u001b[0;32mreturn\u001b[0m \u001b[0mreduction\u001b[0m\u001b[0;34m(\u001b[0m\u001b[0maxis\u001b[0m\u001b[0;34m=\u001b[0m\u001b[0maxis\u001b[0m\u001b[0;34m,\u001b[0m \u001b[0mout\u001b[0m\u001b[0;34m=\u001b[0m\u001b[0mout\u001b[0m\u001b[0;34m,\u001b[0m \u001b[0;34m**\u001b[0m\u001b[0mpasskwargs\u001b[0m\u001b[0;34m)\u001b[0m\u001b[0;34m\u001b[0m\u001b[0;34m\u001b[0m\u001b[0m\n\u001b[1;32m     86\u001b[0m \u001b[0;34m\u001b[0m\u001b[0m\n\u001b[0;32m---> 87\u001b[0;31m     \u001b[0;32mreturn\u001b[0m \u001b[0mufunc\u001b[0m\u001b[0;34m.\u001b[0m\u001b[0mreduce\u001b[0m\u001b[0;34m(\u001b[0m\u001b[0mobj\u001b[0m\u001b[0;34m,\u001b[0m \u001b[0maxis\u001b[0m\u001b[0;34m,\u001b[0m \u001b[0mdtype\u001b[0m\u001b[0;34m,\u001b[0m \u001b[0mout\u001b[0m\u001b[0;34m,\u001b[0m \u001b[0;34m**\u001b[0m\u001b[0mpasskwargs\u001b[0m\u001b[0;34m)\u001b[0m\u001b[0;34m\u001b[0m\u001b[0;34m\u001b[0m\u001b[0m\n\u001b[0m\u001b[1;32m     88\u001b[0m \u001b[0;34m\u001b[0m\u001b[0m\n\u001b[1;32m     89\u001b[0m \u001b[0;34m\u001b[0m\u001b[0m\n",
      "\u001b[0;31mValueError\u001b[0m: zero-size array to reduction operation maximum which has no identity"
     ]
    }
   ],
   "source": [
    "################################################################################\n",
    "#\n",
    "#   FILTER GALAXIES\n",
    "#\n",
    "################################################################################\n",
    "\n",
    "temp_infile = open(out_directory + survey_name + 'mask.pickle', 'rb')\n",
    "mask, mask_resolution = pickle.load(temp_infile)\n",
    "temp_infile.close()\n",
    "\n",
    "wall_coords_xyz, field_coords_xyz, hole_grid_shape, coords_min = filter_galaxies(galaxy_data_table,\n",
    "                                                                                 survey_name,\n",
    "                                                                                 out_directory,\n",
    "                                                                                 mag_cut=False,\n",
    "                                                                                 dist_limits=dist_limits,\n",
    "                                                                                 #mag_cut_flag=mag_cut,\n",
    "                                                                                 #rm_isolated_flag=rm_isolated,\n",
    "                                                                                 #hole_grid_edge_length=5.0,\n",
    "                                                                                 dist_metric=dist_metric,\n",
    "                                                                                 #h=h,\n",
    "                                                                                 verbose=0)\n",
    "\n",
    "del galaxy_data_table\n",
    "\n",
    "\n",
    "temp_outfile = open(survey_name + \"filter_galaxies_output.pickle\", 'wb')\n",
    "pickle.dump((wall_coords_xyz, field_coords_xyz, hole_grid_shape, coords_min), temp_outfile)\n",
    "temp_outfile.close()"
   ]
  },
  {
   "cell_type": "code",
   "execution_count": 6,
   "id": "f48a63ca-69ec-424d-8373-5e2ae7ca30dc",
   "metadata": {},
   "outputs": [
    {
     "name": "stdout",
     "output_type": "stream",
     "text": [
      "Growing holes\n",
      "Total time growing holes: 0.0825502872467041\n",
      "Found a total of 0 potential voids.\n",
      "Time to grow all holes: 0.612368106842041\n",
      "Starting volume cut\n"
     ]
    },
    {
     "ename": "ValueError",
     "evalue": "zero-size array to reduction operation maximum which has no identity",
     "output_type": "error",
     "traceback": [
      "\u001b[0;31m---------------------------------------------------------------------------\u001b[0m",
      "\u001b[0;31mValueError\u001b[0m                                Traceback (most recent call last)",
      "\u001b[0;32m<ipython-input-6-eb5f0fe68121>\u001b[0m in \u001b[0;36m<module>\u001b[0;34m\u001b[0m\n\u001b[1;32m     12\u001b[0m \u001b[0;34m\u001b[0m\u001b[0m\n\u001b[1;32m     13\u001b[0m \u001b[0;34m\u001b[0m\u001b[0m\n\u001b[0;32m---> 14\u001b[0;31m find_voids(wall_coords_xyz, \n\u001b[0m\u001b[1;32m     15\u001b[0m            \u001b[0mdist_limits\u001b[0m\u001b[0;34m,\u001b[0m\u001b[0;34m\u001b[0m\u001b[0;34m\u001b[0m\u001b[0m\n\u001b[1;32m     16\u001b[0m            \u001b[0mmask\u001b[0m\u001b[0;34m,\u001b[0m\u001b[0;34m\u001b[0m\u001b[0;34m\u001b[0m\u001b[0m\n",
      "\u001b[0;32m/global/u1/s/schampat/Voids/VAST/VoidFinder/vast/voidfinder/voidfinder.py\u001b[0m in \u001b[0;36mfind_voids\u001b[0;34m(galaxy_coords_xyz, dist_limits, mask, mask_resolution, coords_min, hole_grid_shape, survey_name, max_hole_mask_overlap, hole_grid_edge_length, galaxy_map_grid_edge_length, hole_center_iter_dist, maximal_spheres_filename, void_table_filename, potential_voids_filename, num_cpus, save_after, use_start_checkpoint, batch_size, verbose, print_after)\u001b[0m\n\u001b[1;32m    770\u001b[0m     \u001b[0mvol_cut_start\u001b[0m \u001b[0;34m=\u001b[0m \u001b[0mtime\u001b[0m\u001b[0;34m.\u001b[0m\u001b[0mtime\u001b[0m\u001b[0;34m(\u001b[0m\u001b[0;34m)\u001b[0m\u001b[0;34m\u001b[0m\u001b[0;34m\u001b[0m\u001b[0m\n\u001b[1;32m    771\u001b[0m \u001b[0;34m\u001b[0m\u001b[0m\n\u001b[0;32m--> 772\u001b[0;31m     valid_idx, monte_index = check_hole_bounds(x_y_z_r_array, \n\u001b[0m\u001b[1;32m    773\u001b[0m                                               \u001b[0mmask\u001b[0m\u001b[0;34m.\u001b[0m\u001b[0mastype\u001b[0m\u001b[0;34m(\u001b[0m\u001b[0mnp\u001b[0m\u001b[0;34m.\u001b[0m\u001b[0muint8\u001b[0m\u001b[0;34m)\u001b[0m\u001b[0;34m,\u001b[0m\u001b[0;34m\u001b[0m\u001b[0;34m\u001b[0m\u001b[0m\n\u001b[1;32m    774\u001b[0m                                               \u001b[0mmask_resolution\u001b[0m\u001b[0;34m,\u001b[0m\u001b[0;34m\u001b[0m\u001b[0;34m\u001b[0m\u001b[0m\n",
      "\u001b[0;32m/global/u1/s/schampat/Voids/VAST/VoidFinder/vast/voidfinder/volume_cut.py\u001b[0m in \u001b[0;36mcheck_hole_bounds\u001b[0;34m(x_y_z_r_array, mask, mask_resolution, r_limits, cut_pct, pts_per_unit_volume, num_surf_pts, num_cpus, verbose)\u001b[0m\n\u001b[1;32m    304\u001b[0m     \u001b[0;32mif\u001b[0m \u001b[0mnum_cpus\u001b[0m \u001b[0;34m==\u001b[0m \u001b[0;36m1\u001b[0m\u001b[0;34m:\u001b[0m\u001b[0;34m\u001b[0m\u001b[0;34m\u001b[0m\u001b[0m\n\u001b[1;32m    305\u001b[0m \u001b[0;34m\u001b[0m\u001b[0m\n\u001b[0;32m--> 306\u001b[0;31m         valid_index, monte_index = oob_cut_single(x_y_z_r_array, \n\u001b[0m\u001b[1;32m    307\u001b[0m                                                   \u001b[0mmask\u001b[0m\u001b[0;34m,\u001b[0m\u001b[0;34m\u001b[0m\u001b[0;34m\u001b[0m\u001b[0m\n\u001b[1;32m    308\u001b[0m                                                   \u001b[0mmask_resolution\u001b[0m\u001b[0;34m,\u001b[0m\u001b[0;34m\u001b[0m\u001b[0;34m\u001b[0m\u001b[0m\n",
      "\u001b[0;32m/global/u1/s/schampat/Voids/VAST/VoidFinder/vast/voidfinder/volume_cut.py\u001b[0m in \u001b[0;36moob_cut_single\u001b[0;34m(x_y_z_r_array, mask, mask_resolution, r_limits, cut_pct, pts_per_unit_volume, num_surf_pts)\u001b[0m\n\u001b[1;32m    378\u001b[0m     \u001b[0;31m# critically depends on this sort\u001b[0m\u001b[0;34m\u001b[0m\u001b[0;34m\u001b[0m\u001b[0;34m\u001b[0m\u001b[0m\n\u001b[1;32m    379\u001b[0m     \u001b[0;31m#---------------------------------------------------------------------------\u001b[0m\u001b[0;34m\u001b[0m\u001b[0;34m\u001b[0m\u001b[0;34m\u001b[0m\u001b[0m\n\u001b[0;32m--> 380\u001b[0;31m     \u001b[0mlargest_radius\u001b[0m \u001b[0;34m=\u001b[0m \u001b[0mx_y_z_r_array\u001b[0m\u001b[0;34m[\u001b[0m\u001b[0;34m:\u001b[0m\u001b[0;34m,\u001b[0m\u001b[0;36m3\u001b[0m\u001b[0;34m]\u001b[0m\u001b[0;34m.\u001b[0m\u001b[0mmax\u001b[0m\u001b[0;34m(\u001b[0m\u001b[0;34m)\u001b[0m\u001b[0;34m\u001b[0m\u001b[0;34m\u001b[0m\u001b[0m\n\u001b[0m\u001b[1;32m    381\u001b[0m \u001b[0;34m\u001b[0m\u001b[0m\n\u001b[1;32m    382\u001b[0m     \u001b[0mgen_radius\u001b[0m \u001b[0;34m=\u001b[0m \u001b[0mlargest_radius\u001b[0m\u001b[0;34m*\u001b[0m\u001b[0;36m1.05\u001b[0m \u001b[0;31m#add a bit of margin for the mesh\u001b[0m\u001b[0;34m\u001b[0m\u001b[0;34m\u001b[0m\u001b[0m\n",
      "\u001b[0;32m/global/common/software/desi/cori/desiconda/20200801-1.4.0-spec/conda/lib/python3.8/site-packages/numpy/core/_methods.py\u001b[0m in \u001b[0;36m_amax\u001b[0;34m(a, axis, out, keepdims, initial, where)\u001b[0m\n\u001b[1;32m     37\u001b[0m def _amax(a, axis=None, out=None, keepdims=False,\n\u001b[1;32m     38\u001b[0m           initial=_NoValue, where=True):\n\u001b[0;32m---> 39\u001b[0;31m     \u001b[0;32mreturn\u001b[0m \u001b[0mumr_maximum\u001b[0m\u001b[0;34m(\u001b[0m\u001b[0ma\u001b[0m\u001b[0;34m,\u001b[0m \u001b[0maxis\u001b[0m\u001b[0;34m,\u001b[0m \u001b[0;32mNone\u001b[0m\u001b[0;34m,\u001b[0m \u001b[0mout\u001b[0m\u001b[0;34m,\u001b[0m \u001b[0mkeepdims\u001b[0m\u001b[0;34m,\u001b[0m \u001b[0minitial\u001b[0m\u001b[0;34m,\u001b[0m \u001b[0mwhere\u001b[0m\u001b[0;34m)\u001b[0m\u001b[0;34m\u001b[0m\u001b[0;34m\u001b[0m\u001b[0m\n\u001b[0m\u001b[1;32m     40\u001b[0m \u001b[0;34m\u001b[0m\u001b[0m\n\u001b[1;32m     41\u001b[0m def _amin(a, axis=None, out=None, keepdims=False,\n",
      "\u001b[0;31mValueError\u001b[0m: zero-size array to reduction operation maximum which has no identity"
     ]
    }
   ],
   "source": [
    "################################################################################\n",
    "#\n",
    "#   FIND VOIDS\n",
    "#\n",
    "################################################################################\n",
    "\n",
    "\n",
    "temp_infile = open(survey_name + \"filter_galaxies_output.pickle\", 'rb')\n",
    "wall_coords_xyz, field_coords_xyz, hole_grid_shape, coords_min = pickle.load(temp_infile)\n",
    "temp_infile.close()\n",
    "\n",
    "\n",
    "\n",
    "find_voids(wall_coords_xyz, \n",
    "           dist_limits,\n",
    "           mask, \n",
    "           mask_resolution,\n",
    "           coords_min,\n",
    "           hole_grid_shape,\n",
    "           survey_name,\n",
    "           #save_after=50000,\n",
    "           #use_start_checkpoint=True,\n",
    "           #hole_grid_edge_length=5.0,\n",
    "           #galaxy_map_grid_edge_length=None,\n",
    "           #hole_center_iter_dist=1.0,\n",
    "           maximal_spheres_filename=out1_filename,\n",
    "           void_table_filename=out2_filename,\n",
    "           potential_voids_filename=out_directory + survey_name + 'potential_voids_list.txt',\n",
    "           num_cpus=num_cpus,\n",
    "           batch_size=10000,\n",
    "           verbose=0,\n",
    "           print_after=5.0)"
   ]
  },
  {
   "cell_type": "code",
   "execution_count": 9,
   "id": "350717e8-6f76-4bd7-867f-87d2316f3931",
   "metadata": {},
   "outputs": [
    {
     "data": {
      "text/plain": [
       "'VoidFinder - Hoyle & Vogeley (2002)'"
      ]
     },
     "execution_count": 9,
     "metadata": {},
     "output_type": "execute_result"
    }
   ],
   "source": [
    "'''VoidFinder - Hoyle & Vogeley (2002)'''\n",
    "\n",
    "\n",
    "\n",
    "\n",
    "\n",
    "\n"
   ]
  },
  {
   "cell_type": "code",
   "execution_count": null,
   "id": "d8344400-e8d7-4c7a-8d6a-854c78f7e170",
   "metadata": {},
   "outputs": [],
   "source": []
  },
  {
   "cell_type": "code",
   "execution_count": null,
   "id": "f4e86d59-f67d-4eb2-8d0e-bdd77f2b830c",
   "metadata": {},
   "outputs": [],
   "source": []
  }
 ],
 "metadata": {
  "kernelspec": {
   "display_name": "DESI master",
   "language": "python",
   "name": "desi-master"
  },
  "language_info": {
   "codemirror_mode": {
    "name": "ipython",
    "version": 3
   },
   "file_extension": ".py",
   "mimetype": "text/x-python",
   "name": "python",
   "nbconvert_exporter": "python",
   "pygments_lexer": "ipython3",
   "version": "3.8.3"
  }
 },
 "nbformat": 4,
 "nbformat_minor": 5
}
