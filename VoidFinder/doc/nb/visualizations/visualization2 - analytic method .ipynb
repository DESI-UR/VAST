{
 "cells": [
  {
   "cell_type": "code",
   "execution_count": 2,
   "metadata": {},
   "outputs": [],
   "source": [
    "import numpy as np\n",
    "from astropy.io import fits\n",
    "from astropy.table import Table, unique\n",
    "from scipy.integrate import quad\n",
    "import matplotlib.pyplot as plt\n",
    "\n",
    "import matplotlib.pyplot as plt\n",
    "import mpl_toolkits.axisartist.floating_axes as floating_axes\n",
    "from matplotlib.transforms import Affine2D\n",
    "from mpl_toolkits.mplot3d import Axes3D\n",
    "\n",
    "import astropy\n",
    "from astropy.io import ascii\n",
    "import matplotlib as mpl\n",
    "from astropy import coordinates"
   ]
  },
  {
   "cell_type": "code",
   "execution_count": 3,
   "metadata": {},
   "outputs": [],
   "source": [
    "# loading galaxies\n",
    "gal_file = fits.open('void_flatmock_5.fits') \n",
    "data_gal = Table(gal_file[1].data)\n",
    "z_glx, ra_glx, dec_glx = np.array(data_gal['z']), np.array(data_gal['ra']), np.array(data_gal['dec'])"
   ]
  },
  {
   "cell_type": "code",
   "execution_count": 4,
   "metadata": {},
   "outputs": [],
   "source": [
    "# loading detected voids (by voidfinder)\n",
    "data_vd = ascii.read('void_flatmock_5_maximal_noFiltering.txt', names=['x', 'y', 'z', 'radius', 'flag', 'r', 'ra', 'dec'])\n",
    "radius_vd,r_vd,ra_vd,dec_vd = np.array(data_vd['radius']), np.array(data_vd['r']), np.array(data_vd['ra']), np.array(data_vd['dec'])"
   ]
  },
  {
   "cell_type": "code",
   "execution_count": 5,
   "metadata": {},
   "outputs": [],
   "source": [
    "cut = (ra_vd < 96) & (ra_vd>86) & (dec_vd>-6) & (dec_vd<6)\n",
    "radius_vd,r_vd,ra_vd,dec_vd = radius_vd[cut],r_vd[cut],ra_vd[cut],dec_vd[cut]"
   ]
  },
  {
   "cell_type": "code",
   "execution_count": 6,
   "metadata": {},
   "outputs": [],
   "source": [
    "def Distance(z,omega_m,h):\n",
    "    dist = np.ones(len(z))\n",
    "    H0 = 100*h\n",
    "    for i,redshift in enumerate(z):\n",
    "        a_start = 1/(1+redshift)\n",
    "        I = quad(f,a_start,1,args=omega_m)\n",
    "        dist[i] = I[0]*(c/H0)\n",
    "    return dist\n",
    "def f(a,omega_m):\n",
    "    return 1/(np.sqrt(a*omega_m*(1+((1-omega_m)*a**3/omega_m))))\n",
    "c = 299792\n",
    "r_glx = Distance(z_glx,0.3,1)"
   ]
  },
  {
   "cell_type": "code",
   "execution_count": 5,
   "metadata": {
    "scrolled": true
   },
   "outputs": [],
   "source": [
    "# if the distance conversion takes too long, do it once and save the output and reload it each time by uncommenting:\n",
    "# np.savetxt('r_glx', r_glx)\n",
    "#r_glx = np.loadtxt('r_glx')"
   ]
  },
  {
   "cell_type": "code",
   "execution_count": 9,
   "metadata": {},
   "outputs": [],
   "source": [
    "def ra_dec_to_xyz(r, ra, dec):\n",
    "\n",
    "    sin_ra = np.sin(ra * np.pi / 180.)\n",
    "    cos_ra = np.cos(ra * np.pi / 180.)\n",
    "\n",
    "    sin_dec = np.sin(np.pi / 2 - dec * np.pi / 180.)\n",
    "    cos_dec = np.cos(np.pi / 2 - dec * np.pi / 180.)\n",
    "\n",
    "    return [r*cos_ra * sin_dec,\n",
    "            r*sin_ra * sin_dec,\n",
    "            r*cos_dec]\n",
    "\n",
    "x0 = np.array(ra_dec_to_xyz(r_vd,ra_vd,dec_vd)[0])\n",
    "y0 = np.array(ra_dec_to_xyz(r_vd,ra_vd,dec_vd)[1])\n",
    "z0 = np.array(ra_dec_to_xyz(r_vd,ra_vd,dec_vd)[2])\n"
   ]
  },
  {
   "cell_type": "code",
   "execution_count": 26,
   "metadata": {},
   "outputs": [],
   "source": [
    "'''calculate the coefficients of the equation of the plane of the declination slice, you can proceed as follows:\n",
    "1- uncomment the commented part of this cell to generate points on the declination slice\n",
    "2- you might need to convert X1,Y1,Z1 from cartesian to spherical coordinates using astropy.coordinates.\n",
    "3- pick any three points for example: X1[50],Y1[50], Z1[50].\n",
    "4- find the equation of the plane given three points belonging to it : standard math problem, locate coefficients  \n",
    "A,B,C,D, might write a function for this.\n",
    "'''\n",
    "\n",
    "# theta = np.linspace(83*np.pi/180,97*np.pi/180,1000)\n",
    "# X1 = r * np.cos(theta)\n",
    "# Y1 = r * np.sin(theta)\n",
    "# l = 1.0001 # middle of declination slice \n",
    "# Z1 = np.sqrt(X1**2 + Y1**2)*(1/np.tan((np.pi/2)-l*np.pi/180))\n",
    "\n",
    "A = 187.49507573318\n",
    "B = -1075.9108757875\n",
    "C = 65441.471508737\n",
    "D = 137066.9514458"
   ]
  },
  {
   "cell_type": "code",
   "execution_count": 33,
   "metadata": {
    "scrolled": true
   },
   "outputs": [],
   "source": [
    "# calculating the distance between the declination plane and the center of the void\n",
    "rho = (A*x0 + B*y0 + C*z0 -D)/(np.sqrt(A**2 + B**2 + C**2))"
   ]
  },
  {
   "cell_type": "code",
   "execution_count": 28,
   "metadata": {
    "scrolled": false
   },
   "outputs": [],
   "source": [
    "# analytically calculating the intersection between the void spheres and declination plane\n",
    "\n",
    "intersect = np.abs(rho) < radius_vd\n",
    "circle_radius = np.sqrt(radius_vd[intersect]**2 - rho[intersect]**2)\n",
    "x_center = x0[intersect] - rho[intersect]*(A/np.sqrt(A**2 + B**2 + C**2))\n",
    "y_center = y0[intersect] - rho[intersect]*(B/np.sqrt(A**2 + B**2 + C**2))\n",
    "z_center = z0[intersect] - rho[intersect]*(C/np.sqrt(A**2 + B**2 + C**2))\n"
   ]
  },
  {
   "cell_type": "code",
   "execution_count": 29,
   "metadata": {},
   "outputs": [],
   "source": [
    "circle_dec = astropy.coordinates.cartesian_to_spherical(x_center,y_center,z_center)[1]\n",
    "circle_dec = np.array(circle_dec.value)\n",
    "circle_ra = astropy.coordinates.cartesian_to_spherical(x_center,y_center,z_center)[2]\n",
    "circle_ra = np.array(circle_ra.value)\n",
    "circle_r = astropy.coordinates.cartesian_to_spherical(x_center,y_center,z_center)[0]\n",
    "circle_r = np.array(circle_r.value)"
   ]
  },
  {
   "cell_type": "code",
   "execution_count": 30,
   "metadata": {},
   "outputs": [],
   "source": [
    "def setup_axes3(fig, rect, ra0, ra1, cz0, cz1):\n",
    "    \n",
    "    # rotate a bit for better orientation\n",
    "    tr_rotate = Affine2D().translate(90, 0)\n",
    "    # scale degree to radians\n",
    "    tr_scale = Affine2D().scale(np.pi/180., 1.)\n",
    "\n",
    "    tr = tr_rotate + mpl.projections.PolarAxes.PolarTransform()\n",
    "    \n",
    "    grid_helper = floating_axes.GridHelperCurveLinear(tr, extremes=(ra0, ra1, cz0, cz1))\n",
    "\n",
    "    ax1 = floating_axes.FloatingSubplot(fig, rect, grid_helper=grid_helper)\n",
    "    \n",
    "    fig.add_subplot(ax1)\n",
    "    \n",
    "    # adjust axis\n",
    "    ax1.axis['left'].set_axis_direction('bottom')\n",
    "    ax1.axis['right'].set_axis_direction('top')\n",
    "    ax1.axis['bottom'].set_visible(False)\n",
    "    ax1.axis['top'].set_axis_direction(\"bottom\")\n",
    "    #ax1.axis['top'].toggle(ticklabels=True, label=True)\n",
    "    ax1.axis['top'].major_ticklabels.set_axis_direction(\"top\")\n",
    "    ax1.axis['top'].label.set_axis_direction(\"top\")\n",
    "    ax1.axis['left'].major_ticklabels.set_axis_direction('right')\n",
    "    ax1.axis[\"left\"].label.set_text(\"r [Mpc h$^{-1}$]\")\n",
    "    ax1.axis[\"top\"].label.set_text(r\"$\\alpha_{1950}$\")\n",
    "    aux_ax = ax1.get_aux_axes(tr)\n",
    "\n",
    "    aux_ax.patch = ax1.patch  \n",
    "    ax1.patch.zorder = 0.9  \n",
    "\n",
    "    return ax1, aux_ax    \n",
    "\n"
   ]
  },
  {
   "cell_type": "code",
   "execution_count": 32,
   "metadata": {
    "scrolled": false
   },
   "outputs": [
    {
     "data": {
      "image/png": "[encoded data removed]",
      "text/plain": [
       "<Figure size 2160x2160 with 1 Axes>"
      ]
     },
     "metadata": {
      "needs_background": "light"
     },
     "output_type": "display_data"
    }
   ],
   "source": [
    "fig = plt.figure(1, figsize=(30, 30))\n",
    "degree = np.pi / 180\n",
    "ph = ra_glx*degree \n",
    "ra0, ra1 = np.min(ph)-0.5*np.pi, np.max(ph)-0.5*np.pi\n",
    "cz0, cz1 = np.min(r_glx), np.max(r_glx)\n",
    "# 'd' is declination and 's' is the thickness of the declination slice, vary 'd' and 's' to get difference slices.\n",
    "\n",
    "i,d,s = 1,1,0.0002\n",
    "\n",
    "cut = np.logical_and(dec_glx > d, dec_glx <= d+s)\n",
    "rect = 320 + (i+1)\n",
    "ax, aux_ax = setup_axes3(fig, rect, ra0, ra1, cz0, cz1)\n",
    "\n",
    "aux_ax.scatter(ph[cut]-0.5*np.pi, r_glx[cut], marker='.', alpha=0.5, color = 'g')\n",
    "\n",
    "#circle_r, circle_ra, circle_dec in radians\n",
    "\n",
    "def pol2cart(r, phi): # phi = ra and dec = pi/2 - theta\n",
    "    x = r * np.cos(phi)\n",
    "    y = r * np.sin(phi)\n",
    "    return(x, y)\n",
    "\n",
    "deg = np.pi / 180\n",
    "\n",
    "x = pol2cart(circle_r,circle_ra+0.148*np.pi)[0]\n",
    "y = pol2cart(circle_r,circle_ra+0.148*np.pi)[1]\n",
    "\n",
    "for i in range(len(circle_radius)):\n",
    "    circle = plt.Circle((np.array(x)[i],np.array(y)[i]), circle_radius[i],transform=ax.transData._b, color=\"red\", alpha=0.3)\n",
    "    aux_ax.add_artist(circle)\n",
    "\n",
    "# to superpose the mock voids (injected) on the slice, follow the procedure from 'visualization- declination slices.ipynb')"
   ]
  }
 ],
 "metadata": {
  "kernelspec": {
   "display_name": "Python 3",
   "language": "python",
   "name": "python3"
  },
  "language_info": {
   "codemirror_mode": {
    "name": "ipython",
    "version": 3
   },
   "file_extension": ".py",
   "mimetype": "text/x-python",
   "name": "python",
   "nbconvert_exporter": "python",
   "pygments_lexer": "ipython3",
   "version": "3.7.6"
  }
 },
 "nbformat": 4,
 "nbformat_minor": 2
}
